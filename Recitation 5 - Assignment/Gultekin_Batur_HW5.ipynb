{
  "nbformat": 4,
  "nbformat_minor": 0,
  "metadata": {
    "colab": {
      "name": "Gultekin_Batur_HW5.ipynb",
      "provenance": [],
      "collapsed_sections": [],
      "toc_visible": true
    },
    "kernelspec": {
      "name": "python3",
      "display_name": "Python 3"
    }
  },
  "cells": [
    {
      "cell_type": "markdown",
      "metadata": {
        "id": "hZ8QkAD3eGCW",
        "colab_type": "text"
      },
      "source": [
        "\n",
        "## **HW Assignment-5**\n",
        "\n",
        "This is a Predictive Analytics Homework, please answer the questions and fill the functions only with using python.\n",
        "\n",
        "In this assignment, you are going to practice your exploratory data analysis skills. Each question is accompanied by an incomplete function. Your task is to construct the body of those functions with appropriate return types."
      ]
    },
    {
      "cell_type": "markdown",
      "metadata": {
        "id": "YsnWsf8fe0Hy",
        "colab_type": "text"
      },
      "source": [
        "**Instructions**\n",
        "\n",
        "Copy this assignment to you Drive. File --> Save a copy in Drive. Rename it Lastname_Firstname_HW5.\n",
        "\n",
        "When you're done please submit your solutions as a Colab file. To do so:\n",
        "\n",
        "Go to and click on File at the top left on the Colab screen,then click on Download .ipynb.\n",
        "Then submit the ipynb version of your work on your SUCourse submission.\n",
        "For any question, send an email to aozdemir@sabanciuniv.edu.\n"
      ]
    },
    {
      "cell_type": "markdown",
      "metadata": {
        "id": "h_lq-Q_ceGeD",
        "colab_type": "text"
      },
      "source": [
        "\n",
        "## **Getting Started**\n",
        "\n",
        "In this homework, we'll use Random Forest for classification by  using a German Credit Approval dataset.\n",
        "\n",
        "Description:\n",
        "\n",
        "When a bank receives a loan application, based on the applicant’s profile the bank has to make a decision regarding whether to go ahead with the loan approval or not. Two types of risks are associated with the bank’s decision which are the followings:\n",
        "\n",
        "-If the applicant is a good credit risk, i.e. is likely to repay the loan, then not approving the loan to the person results in a loss of business to the bank\n",
        "\n",
        "-If the applicant is a bad credit risk, i.e. is not likely to repay the loan, then approving the loan to the person results in a financial loss to the bank\n",
        "\n",
        "\n",
        "\n",
        "\n",
        "\n",
        "\n",
        "A description of the data can also be found at:\n",
        "https://newonlinecourses.science.psu.edu/stat508/resource/analysis/gcd\n",
        "\n",
        "\n",
        "\n",
        "\n",
        "\n",
        "<p><p>\n",
        "\n"
      ]
    },
    {
      "cell_type": "markdown",
      "metadata": {
        "id": "xf75KgfyiCNy",
        "colab_type": "text"
      },
      "source": [
        "# **Question 1** [5 pts]\n",
        "\n",
        "\n",
        "In the shared folder, you will see german-credit dataset. The following questions require you to read the datasets into dataframes. Therefore, you need to add the datasets to your own drive (Right Click->Add to My Drive), in addition to the colab notebook as stated in the instructions. And lastly, please do not forget to mount to your drive by executing the cell below."
      ]
    },
    {
      "cell_type": "code",
      "metadata": {
        "id": "D8Fn9Yw0iUv5",
        "colab_type": "code",
        "outputId": "61d02abd-3276-4859-8260-e03fd0a47dec",
        "colab": {
          "base_uri": "https://localhost:8080/",
          "height": 122
        }
      },
      "source": [
        "from google.colab import drive\n",
        "drive.mount('/content/drive')"
      ],
      "execution_count": 0,
      "outputs": [
        {
          "output_type": "stream",
          "text": [
            "Go to this URL in a browser: https://accounts.google.com/o/oauth2/auth?client_id=947318989803-6bn6qk8qdgf4n4g3pfee6491hc0brc4i.apps.googleusercontent.com&redirect_uri=urn%3aietf%3awg%3aoauth%3a2.0%3aoob&response_type=code&scope=email%20https%3a%2f%2fwww.googleapis.com%2fauth%2fdocs.test%20https%3a%2f%2fwww.googleapis.com%2fauth%2fdrive%20https%3a%2f%2fwww.googleapis.com%2fauth%2fdrive.photos.readonly%20https%3a%2f%2fwww.googleapis.com%2fauth%2fpeopleapi.readonly\n",
            "\n",
            "Enter your authorization code:\n",
            "··········\n",
            "Mounted at /content/drive\n"
          ],
          "name": "stdout"
        }
      ]
    },
    {
      "cell_type": "markdown",
      "metadata": {
        "id": "_2uc65FkjvCc",
        "colab_type": "text"
      },
      "source": [
        "In the below cell please read the german-credit-data from drive and **assign it to the variable named as \"df\"**"
      ]
    },
    {
      "cell_type": "code",
      "metadata": {
        "id": "FkXXBocCeG5x",
        "colab_type": "code",
        "colab": {}
      },
      "source": [
        "import pandas as pd \n",
        "import numpy as np\n",
        "# Please do not change  the above part!\n",
        "# Write Solution Below !\n",
        "path = \"/content/drive/My Drive/HW Assignment-5/german_credit.csv\"\n",
        "df= pd.read_csv(path)\n"
      ],
      "execution_count": 0,
      "outputs": []
    },
    {
      "cell_type": "markdown",
      "metadata": {
        "id": "l7H_uc8vkCxp",
        "colab_type": "text"
      },
      "source": [
        "# **Question 2**  [5 pts] \n",
        "\n",
        "Please print the following attributes of the data:\n",
        "\n",
        "-Shape\n",
        "\n",
        "-Column names\n",
        "\n",
        "-First 5 rows\n",
        "\n",
        "Finally,one should see the data consists of 1000 entries and 21 attributes."
      ]
    },
    {
      "cell_type": "code",
      "metadata": {
        "id": "I8WZA7M0ddrq",
        "colab_type": "code",
        "outputId": "89876118-51da-48a1-f279-d32e3810f524",
        "colab": {
          "base_uri": "https://localhost:8080/",
          "height": 323
        }
      },
      "source": [
        "# # Write Solution Below ! Solution\n",
        "print(df.shape)\n",
        "print(df.columns)\n",
        "print(df.head(5))"
      ],
      "execution_count": 0,
      "outputs": [
        {
          "output_type": "stream",
          "text": [
            "(1000, 21)\n",
            "Index(['Creditability', 'Account Balance', 'Duration of Credit (month)',\n",
            "       'Payment Status of Previous Credit', 'Purpose', 'Credit Amount',\n",
            "       'Value Savings/Stocks', 'Length of current employment',\n",
            "       'Instalment per cent', 'Sex & Marital Status', 'Guarantors',\n",
            "       'Duration in Current address', 'Most valuable available asset',\n",
            "       'Age (years)', 'Concurrent Credits', 'Type of apartment',\n",
            "       'No of Credits at this Bank', 'Occupation', 'No of dependents',\n",
            "       'Telephone', 'Foreign Worker'],\n",
            "      dtype='object')\n",
            "   Creditability  Account Balance  ...  Telephone  Foreign Worker\n",
            "0              1                1  ...          1               1\n",
            "1              1                1  ...          1               1\n",
            "2              1                2  ...          1               1\n",
            "3              1                1  ...          1               2\n",
            "4              1                1  ...          1               2\n",
            "\n",
            "[5 rows x 21 columns]\n"
          ],
          "name": "stdout"
        }
      ]
    },
    {
      "cell_type": "markdown",
      "metadata": {
        "id": "T4x4kfO2m7_y",
        "colab_type": "text"
      },
      "source": [
        "**Notation !** \n",
        "\n",
        "There is a creditability column in the dataframe, and this is the column that corresponds credithworthiness of appliciants.\n",
        "\n",
        "If this column is equal to 1 then this means the applicant is a good credit risk, if this columns is equalt to 0 then this means the applicant is a bad cred risk."
      ]
    },
    {
      "cell_type": "markdown",
      "metadata": {
        "id": "A2uw_7S6oLir",
        "colab_type": "text"
      },
      "source": [
        "# **Question 3** [10 pts]\n",
        "\n",
        "The \"Creditability\" column is the our target feature and we will use remaning features (columns) to predict creditability of applicants.\n",
        "\n",
        "Please divide the \"df\" dataframe we created in the first question to 2 part named as  df_x and df_y. \n",
        "\n",
        "df_y : Must correspond **only**  'Creditability' feature. \n",
        "\n",
        "df_x : Must correspond remaining features.\n",
        "\n",
        "Afterwards, print both of them.\n"
      ]
    },
    {
      "cell_type": "code",
      "metadata": {
        "id": "ETZ8Ar5GqZtw",
        "colab_type": "code",
        "outputId": "cbdbca17-3d93-4ea7-8afa-18267a3282ac",
        "colab": {
          "base_uri": "https://localhost:8080/",
          "height": 493
        }
      },
      "source": [
        "# Please use 'df' and create df_x and df_y in the below !\n",
        "# # Write Solution Below !\n",
        "df_x=df.drop([\"Creditability\"],axis=1)\n",
        "df_y=df[[\"Creditability\"]]\n",
        "# Please print below.\n",
        "print(df_y)\n",
        "print(df_x)"
      ],
      "execution_count": 0,
      "outputs": [
        {
          "output_type": "stream",
          "text": [
            "     Creditability\n",
            "0                1\n",
            "1                1\n",
            "2                1\n",
            "3                1\n",
            "4                1\n",
            "..             ...\n",
            "995              0\n",
            "996              0\n",
            "997              0\n",
            "998              0\n",
            "999              0\n",
            "\n",
            "[1000 rows x 1 columns]\n",
            "     Account Balance  Duration of Credit (month)  ...  Telephone  Foreign Worker\n",
            "0                  1                          18  ...          1               1\n",
            "1                  1                           9  ...          1               1\n",
            "2                  2                          12  ...          1               1\n",
            "3                  1                          12  ...          1               2\n",
            "4                  1                          12  ...          1               2\n",
            "..               ...                         ...  ...        ...             ...\n",
            "995                1                          24  ...          1               1\n",
            "996                1                          24  ...          1               1\n",
            "997                4                          21  ...          2               1\n",
            "998                2                          12  ...          2               1\n",
            "999                1                          30  ...          1               1\n",
            "\n",
            "[1000 rows x 20 columns]\n"
          ],
          "name": "stdout"
        }
      ]
    },
    {
      "cell_type": "markdown",
      "metadata": {
        "id": "ekPLMoHjqh6E",
        "colab_type": "text"
      },
      "source": [
        "# **Question 4** [15 pts]\n",
        "\n",
        "\n",
        "\n",
        "As we discussed in the recent recitations, we should divide the data-set into the three sub-part, which corresponds **train**, **validation** and **test**.\n",
        "\n",
        "Please the **df_x** and **df_y** into the three sub part, train,valid and test respectively. You should assign them on the variables named as **X_train**, **X_valid**, **X_test**, **y_train**,**y_test**,**y_valid**\n",
        "\n",
        "**Notation:** Please careful to the sizes of train, validation and test.\n",
        "\n",
        "Train must account for 75% percent of the data.\n",
        "\n",
        "Validation must account for 12.5% percent of the data.\n",
        "\n",
        "Test must account for 12.5% of the data.\n",
        "\n",
        "Please **print the shapes as well.** \n",
        "\n",
        "**Hint:** If you are manually divide the data, do not forget to shuffle it first !!, try to use libraries we discussed in the recitation\n",
        "\n",
        "\n"
      ]
    },
    {
      "cell_type": "code",
      "metadata": {
        "id": "imFThCrtdrlT",
        "colab_type": "code",
        "outputId": "acbfc6ff-a4c1-4c1a-ff2f-eccc7becda87",
        "colab": {
          "base_uri": "https://localhost:8080/",
          "height": 119
        }
      },
      "source": [
        "#Import necessery libraries below\n",
        "from sklearn.model_selection import train_test_split\n",
        "\n",
        "# Write Solution Below !\n",
        "X_train, X_test, y_train, y_test = train_test_split(df_x, df_y, test_size=0.125, random_state=1)\n",
        "X_train, X_val, y_train, y_val = train_test_split(X_train, y_train, test_size=0.142, random_state=1)\n",
        "\n",
        "#You can see expected output at the end of the cell.\n",
        "print(\"\",X_train.shape,\"\\n\",X_val.shape,\"\\n\", X_test.shape,\"\\n\",y_train.shape,\"\\n\",y_val.shape,\"\\n\",y_test.shape )\n",
        "#It corresponds X_tr,X_val,X_tes,y_tr,y_val,y_test  respectively."
      ],
      "execution_count": 0,
      "outputs": [
        {
          "output_type": "stream",
          "text": [
            " (750, 20) \n",
            " (125, 20) \n",
            " (125, 20) \n",
            " (750, 1) \n",
            " (125, 1) \n",
            " (125, 1)\n"
          ],
          "name": "stdout"
        }
      ]
    },
    {
      "cell_type": "markdown",
      "metadata": {
        "id": "hryo1MZteE0h",
        "colab_type": "text"
      },
      "source": [
        "# **Question 5** [15 pts]\n",
        "Use randomForest to predict the Creditability in the validation credit dataset , using all\n",
        "the remaining predictor variables, with the default hyper-parameters. Please follow below guideline.\n",
        "\n",
        "-Fit the model with train data.\n",
        "\n",
        "-Then predict validation\n",
        "\n",
        "-Calculate accuracy of validation\n",
        "\n",
        "\n",
        "\n"
      ]
    },
    {
      "cell_type": "code",
      "metadata": {
        "id": "DFpAW_jYxn7x",
        "colab_type": "code",
        "outputId": "4b82fe3b-e68b-46d7-efda-ad8a165fd403",
        "colab": {
          "base_uri": "https://localhost:8080/",
          "height": 88
        }
      },
      "source": [
        "from sklearn.ensemble import RandomForestClassifier\n",
        "rf= RandomForestClassifier()\n",
        "\n",
        "# Please do not change above code !\n",
        "\n",
        "# Write Solution Below.\n",
        "from sklearn.metrics import accuracy_score\n",
        "rf.fit(X_train,y_train.values.ravel())\n",
        "predRF = rf.predict(X_val)\n",
        "RFaccuracy = accuracy_score(y_val, predRF)\n",
        "\n",
        "\n",
        "print(\"Random Forest Accuracy:\"+str(RFaccuracy))"
      ],
      "execution_count": 83,
      "outputs": [
        {
          "output_type": "stream",
          "text": [
            "Random Forest Accuracy:0.72\n"
          ],
          "name": "stdout"
        },
        {
          "output_type": "stream",
          "text": [
            "/usr/local/lib/python3.6/dist-packages/sklearn/ensemble/forest.py:245: FutureWarning: The default value of n_estimators will change from 10 in version 0.20 to 100 in 0.22.\n",
            "  \"10 in version 0.20 to 100 in 0.22.\", FutureWarning)\n"
          ],
          "name": "stderr"
        }
      ]
    },
    {
      "cell_type": "markdown",
      "metadata": {
        "id": "rHJ2y-Yryb1x",
        "colab_type": "text"
      },
      "source": [
        "# **Question 6** [40 pts]\n",
        "\n",
        "First of all, let's look at the hyper-paramaters that random forest take. For more info let's look at the  [documentation](https://scikit-learn.org/stable/modules/generated/sklearn.ensemble.RandomForestClassifier.html).\n",
        "\n",
        "You can see the hyperparameters that random forest take in the below.\n",
        " "
      ]
    },
    {
      "cell_type": "code",
      "metadata": {
        "id": "k6A6iPqMwhWs",
        "colab_type": "code",
        "outputId": "24b18383-f4be-492b-9f51-631f380c98b9",
        "colab": {
          "base_uri": "https://localhost:8080/",
          "height": 136
        }
      },
      "source": [
        "from sklearn.ensemble import RandomForestClassifier\n",
        "rf= RandomForestClassifier()\n",
        "print(rf.get_params)"
      ],
      "execution_count": 0,
      "outputs": [
        {
          "output_type": "stream",
          "text": [
            "<bound method BaseEstimator.get_params of RandomForestClassifier(bootstrap=True, class_weight=None, criterion='gini',\n",
            "                       max_depth=None, max_features='auto', max_leaf_nodes=None,\n",
            "                       min_impurity_decrease=0.0, min_impurity_split=None,\n",
            "                       min_samples_leaf=1, min_samples_split=2,\n",
            "                       min_weight_fraction_leaf=0.0, n_estimators='warn',\n",
            "                       n_jobs=None, oob_score=False, random_state=None,\n",
            "                       verbose=0, warm_start=False)>\n"
          ],
          "name": "stdout"
        }
      ]
    },
    {
      "cell_type": "markdown",
      "metadata": {
        "id": "cMEQ8OrR0cLm",
        "colab_type": "text"
      },
      "source": [
        "Hyper-parameter known as n_estimators corresponds to the  number of trees in the forest.\n",
        "\n",
        "\n",
        "\n",
        "Please **tune the model according to the  \"n_estimators\" hyper-parameter** on the different values specifed at the next cell on the validation data-set, then **plot the Number of trees versus validation error and train error on a graph** , just like in the recitation. Afterwards, **find the best  n_estimators value** that provide lowest error on the validation data-set. Then **predict the \"Credictability\"** in the **test data** with selected n_estimator value on the validation, do not forget the **print test accuracy**.\n",
        "\n",
        "Notation:  One could use the out-of-bag error instead of a valid-train error.\n",
        "\n",
        "Hint: Error = 1-Accuracy"
      ]
    },
    {
      "cell_type": "code",
      "metadata": {
        "id": "CedqbJ2Cy01_",
        "colab_type": "code",
        "outputId": "a7c449c8-f226-4be2-b01b-3a14a6192a3b",
        "colab": {
          "base_uri": "https://localhost:8080/",
          "height": 350
        }
      },
      "source": [
        "import matplotlib.pyplot as plt\n",
        "%matplotlib inline \n",
        "n_estimators=[3,5,7,9,11,15,17,20,23]\n",
        "\n",
        "# Use the n_estimators values above.\n",
        "\n",
        "#Draw the graph below. \n",
        "valid_error=[]\n",
        "train_error=[]\n",
        "for estimators in n_estimators:\n",
        "    valid_error_model=RandomForestClassifier(n_estimators= estimators)\n",
        "    valid_error_model.fit(X_train, y_train.values.ravel())\n",
        "    predRF1=valid_error_model.predict(X_val)\n",
        "    RFaccuracy1=accuracy_score(y_val, predRF1)\n",
        "    valid_error.append(1-RFaccuracy1)\n",
        "\n",
        "for estimators in n_estimators:\n",
        "    train_error_model=RandomForestClassifier(n_estimators= estimators)\n",
        "    train_error_model.fit(X_train, y_train.values.ravel())\n",
        "    predRF2=train_error_model.predict(X_train)\n",
        "    RFaccuracy2=accuracy_score(y_train, predRF2)\n",
        "    train_error.append(1-RFaccuracy2)\n",
        "\n",
        "plt.rcParams['figure.figsize']=(10,5)\n",
        "plt.plot(n_estimators, valid_error,\"go--\", markerfacecolor=\"green\",color=\"blue\",label=\"validation_error\")\n",
        "plt.plot(n_estimators, train_error, \"go--\",markerfacecolor=\"red\",color=\"black\",label=\"train_error\")\n",
        "plt.legend()\n",
        "plt.title(\"Validation error - Train error vs # of trees\")\n",
        "plt.xlabel(\"Number of Trees\")\n",
        "plt.ylabel(\"Accuracy\")\n",
        "\n",
        "plt.show()\n",
        "\n",
        "#You may see expected output at the end of cell.\n",
        "#Notation: Do not focus the ratio's. It can be different on your case due to the \"randomness\".\n",
        "\n"
      ],
      "execution_count": 0,
      "outputs": [
        {
          "output_type": "display_data",
          "data": {
            "image/png": "[encoded data removed]",
            "text/plain": [
              "<Figure size 720x360 with 1 Axes>"
            ]
          },
          "metadata": {
            "tags": []
          }
        }
      ]
    },
    {
      "cell_type": "code",
      "metadata": {
        "id": "yQUi0VkE18eZ",
        "colab_type": "code",
        "outputId": "19fbaa1e-671f-4ab3-ba00-bc81bcafa4b5",
        "colab": {
          "base_uri": "https://localhost:8080/",
          "height": 34
        }
      },
      "source": [
        "# Find the Test Accuracy below !\n",
        "random_forest = RandomForestClassifier(n_estimators= 23)\n",
        "random_forest.fit(X_train, y_train.values.ravel())\n",
        "predRF = random_forest.predict(X_val)\n",
        "\n",
        "RFaccuracy = accuracy_score(y_val, predRF)\n",
        "\n",
        "print(RFaccuracy)"
      ],
      "execution_count": 0,
      "outputs": [
        {
          "output_type": "stream",
          "text": [
            "0.768\n"
          ],
          "name": "stdout"
        }
      ]
    },
    {
      "cell_type": "markdown",
      "metadata": {
        "id": "x4G29pwf4QW0",
        "colab_type": "text"
      },
      "source": [
        "# **Question 7** [10 pts]\n",
        "\n",
        "After fitting, we can use \"feature_importances_\" attribute to get most important parameters of random forest model we created. Please find most three important parameters. You can look at the documentation.\n"
      ]
    },
    {
      "cell_type": "code",
      "metadata": {
        "id": "WyJ3ekU93rF5",
        "colab_type": "code",
        "outputId": "f3a4e8ba-9187-4486-acbe-93319e1f4c3e",
        "colab": {
          "base_uri": "https://localhost:8080/",
          "height": 34
        }
      },
      "source": [
        "# Solution\n",
        "importances=model_rf.feature_importances_\n",
        "importances.sort()\n",
        "most_three_important=importances[-3:]\n",
        "print(most_three_important)\n",
        "#As long as , \"feature_importances_\" return the feature importances (the higher, the more important the feature). Those are the values of most three important parameters.\n",
        "\n"
      ],
      "execution_count": 0,
      "outputs": [
        {
          "output_type": "stream",
          "text": [
            "[0.1063049  0.11449033 0.1219722 ]\n"
          ],
          "name": "stdout"
        }
      ]
    }
  ]
}